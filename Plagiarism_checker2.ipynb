{
  "cells": [
    {
      "cell_type": "markdown",
      "metadata": {
        "id": "view-in-github",
        "colab_type": "text"
      },
      "source": [
        "<a href=\"https://colab.research.google.com/github/Shiva8164/Plagiarism_Checker_ai/blob/main/Plagiarism_checker2.ipynb\" target=\"_parent\"><img src=\"https://colab.research.google.com/assets/colab-badge.svg\" alt=\"Open In Colab\"/></a>"
      ]
    },
    {
      "cell_type": "code",
      "execution_count": null,
      "metadata": {
        "colab": {
          "base_uri": "https://localhost:8080/"
        },
        "id": "GJzGoVQsiY0Q",
        "outputId": "44bfb110-4c3d-45c9-a6ef-fbedb0cd60e5"
      },
      "outputs": [
        {
          "output_type": "stream",
          "name": "stdout",
          "text": [
            "Drive already mounted at /content/drive; to attempt to forcibly remount, call drive.mount(\"/content/drive\", force_remount=True).\n"
          ]
        }
      ],
      "source": [
        "from google.colab import drive\n",
        "drive.mount('/content/drive')"
      ]
    },
    {
      "cell_type": "code",
      "execution_count": null,
      "metadata": {
        "id": "cnV_Yh6fiuzh"
      },
      "outputs": [],
      "source": [
        "file_path = \"/content/drive/MyDrive/train_snli.txt\"\n",
        "with open(file_path, \"r\") as file:\n",
        "    content = file.read()"
      ]
    },
    {
      "cell_type": "code",
      "execution_count": null,
      "metadata": {
        "id": "_CicAXcPi9cB"
      },
      "outputs": [],
      "source": [
        "import pandas as pd\n",
        "import matplotlib.pyplot as plt\n",
        "import seaborn as sns\n",
        "import numpy as np\n",
        "import nltk\n",
        "import re\n",
        "from sklearn.model_selection import train_test_split\n",
        "from sklearn.linear_model import LogisticRegression\n",
        "from sklearn.metrics import accuracy_score, classification_report, confusion_matrix\n",
        "from nltk.corpus import stopwords\n",
        "from nltk.stem import WordNetLemmatizer"
      ]
    },
    {
      "cell_type": "code",
      "execution_count": null,
      "metadata": {
        "id": "PRwy1_Zai-BH"
      },
      "outputs": [],
      "source": [
        "df = pd.read_csv(file_path, delimiter=\"\\t\", header=None, names=[\"Original_text\", \"Plagiarism_text\", \"Label\"])"
      ]
    },
    {
      "cell_type": "code",
      "execution_count": null,
      "metadata": {
        "colab": {
          "base_uri": "https://localhost:8080/",
          "height": 178
        },
        "id": "QaIYJjeyjFf1",
        "outputId": "fc5dd5e3-c16d-4bc0-db65-944a8e8d372c"
      },
      "outputs": [
        {
          "output_type": "execute_result",
          "data": {
            "text/plain": [
              "Original_text      0\n",
              "Plagiarism_text    4\n",
              "Label              0\n",
              "dtype: int64"
            ],
            "text/html": [
              "<div>\n",
              "<style scoped>\n",
              "    .dataframe tbody tr th:only-of-type {\n",
              "        vertical-align: middle;\n",
              "    }\n",
              "\n",
              "    .dataframe tbody tr th {\n",
              "        vertical-align: top;\n",
              "    }\n",
              "\n",
              "    .dataframe thead th {\n",
              "        text-align: right;\n",
              "    }\n",
              "</style>\n",
              "<table border=\"1\" class=\"dataframe\">\n",
              "  <thead>\n",
              "    <tr style=\"text-align: right;\">\n",
              "      <th></th>\n",
              "      <th>0</th>\n",
              "    </tr>\n",
              "  </thead>\n",
              "  <tbody>\n",
              "    <tr>\n",
              "      <th>Original_text</th>\n",
              "      <td>0</td>\n",
              "    </tr>\n",
              "    <tr>\n",
              "      <th>Plagiarism_text</th>\n",
              "      <td>4</td>\n",
              "    </tr>\n",
              "    <tr>\n",
              "      <th>Label</th>\n",
              "      <td>0</td>\n",
              "    </tr>\n",
              "  </tbody>\n",
              "</table>\n",
              "</div><br><label><b>dtype:</b> int64</label>"
            ]
          },
          "metadata": {},
          "execution_count": 5
        }
      ],
      "source": [
        "df.isnull().sum()"
      ]
    },
    {
      "cell_type": "code",
      "execution_count": null,
      "metadata": {
        "id": "75AoMhXSjJIH"
      },
      "outputs": [],
      "source": [
        "df.dropna(inplace=True)"
      ]
    },
    {
      "cell_type": "code",
      "execution_count": null,
      "metadata": {
        "colab": {
          "base_uri": "https://localhost:8080/",
          "height": 178
        },
        "id": "-t42Km5yjJwG",
        "outputId": "afd711a0-4f16-4c14-a571-b08d1ebe2d19"
      },
      "outputs": [
        {
          "output_type": "execute_result",
          "data": {
            "text/plain": [
              "Label\n",
              "0    183964\n",
              "1    183405\n",
              "Name: count, dtype: int64"
            ],
            "text/html": [
              "<div>\n",
              "<style scoped>\n",
              "    .dataframe tbody tr th:only-of-type {\n",
              "        vertical-align: middle;\n",
              "    }\n",
              "\n",
              "    .dataframe tbody tr th {\n",
              "        vertical-align: top;\n",
              "    }\n",
              "\n",
              "    .dataframe thead th {\n",
              "        text-align: right;\n",
              "    }\n",
              "</style>\n",
              "<table border=\"1\" class=\"dataframe\">\n",
              "  <thead>\n",
              "    <tr style=\"text-align: right;\">\n",
              "      <th></th>\n",
              "      <th>count</th>\n",
              "    </tr>\n",
              "    <tr>\n",
              "      <th>Label</th>\n",
              "      <th></th>\n",
              "    </tr>\n",
              "  </thead>\n",
              "  <tbody>\n",
              "    <tr>\n",
              "      <th>0</th>\n",
              "      <td>183964</td>\n",
              "    </tr>\n",
              "    <tr>\n",
              "      <th>1</th>\n",
              "      <td>183405</td>\n",
              "    </tr>\n",
              "  </tbody>\n",
              "</table>\n",
              "</div><br><label><b>dtype:</b> int64</label>"
            ]
          },
          "metadata": {},
          "execution_count": 7
        }
      ],
      "source": [
        "df['Label'].value_counts()"
      ]
    },
    {
      "cell_type": "code",
      "execution_count": null,
      "metadata": {
        "colab": {
          "base_uri": "https://localhost:8080/",
          "height": 519
        },
        "id": "ABSLP44VjMz4",
        "outputId": "66a7d093-69ec-45c2-ead3-637efdce38a9"
      },
      "outputs": [
        {
          "output_type": "stream",
          "name": "stderr",
          "text": [
            "<ipython-input-8-075323fd5ebf>:4: FutureWarning: \n",
            "\n",
            "Passing `palette` without assigning `hue` is deprecated and will be removed in v0.14.0. Assign the `x` variable to `hue` and set `legend=False` for the same effect.\n",
            "\n",
            "  sns.barplot(x=label_counts.index, y=label_counts.values, palette=[\"#2E4053\", \"#A93226\"])\n"
          ]
        },
        {
          "output_type": "display_data",
          "data": {
            "text/plain": [
              "<Figure size 600x400 with 1 Axes>"
            ],
            "image/png": "[encoded data removed]"
          },
          "metadata": {}
        }
      ],
      "source": [
        "label_counts = df[\"Label\"].value_counts()\n",
        "\n",
        "plt.figure(figsize=(6,4))\n",
        "sns.barplot(x=label_counts.index, y=label_counts.values, palette=[\"#2E4053\", \"#A93226\"])\n",
        "\n",
        "plt.xlabel(\"Labels (0 = Not Plagiarism, 1 = Plagiarism)\")\n",
        "plt.ylabel(\"Count\")\n",
        "plt.title(\"Distribution of Labels (0s and 1s)\")\n",
        "plt.xticks([0, 1], labels=[\"Not Plagiarized (0)\", \"Plagiarized (1)\"])\n",
        "plt.show()"
      ]
    },
    {
      "cell_type": "code",
      "execution_count": null,
      "metadata": {
        "colab": {
          "base_uri": "https://localhost:8080/"
        },
        "id": "iW4TVLctjRgO",
        "outputId": "72661086-8969-47bc-e842-b6f9eba37548"
      },
      "outputs": [
        {
          "output_type": "stream",
          "name": "stderr",
          "text": [
            "[nltk_data] Downloading package stopwords to /root/nltk_data...\n",
            "[nltk_data]   Package stopwords is already up-to-date!\n",
            "[nltk_data] Downloading package wordnet to /root/nltk_data...\n",
            "[nltk_data]   Package wordnet is already up-to-date!\n"
          ]
        }
      ],
      "source": [
        "nltk.download('stopwords')\n",
        "nltk.download('wordnet')\n",
        "def cleaning_data(data):\n",
        "  data = data.lower()\n",
        "  data = re.sub(r'[^\\w\\s]', '', data)\n",
        "  stopword = set(stopwords.words('english'))\n",
        "  data = ' '.join([x for x in data.split() if x not in stopword])\n",
        "  lemmatizer = WordNetLemmatizer()\n",
        "  data = ' '.join([lemmatizer.lemmatize(x) for x in data.split()])\n",
        "  return data"
      ]
    },
    {
      "cell_type": "code",
      "execution_count": 10,
      "metadata": {
        "id": "ms2PRzHKjVtS"
      },
      "outputs": [],
      "source": [
        "df[\"Original_text\"] = df[\"Original_text\"].apply(cleaning_data)\n",
        "df[\"Plagiarism_text\"] = df[\"Plagiarism_text\"].apply(cleaning_data)"
      ]
    },
    {
      "cell_type": "code",
      "execution_count": 11,
      "metadata": {
        "colab": {
          "base_uri": "https://localhost:8080/"
        },
        "id": "C9QW-Az8jYh9",
        "outputId": "e1b5b767-00af-4f31-eefa-f79362c140df"
      },
      "outputs": [
        {
          "output_type": "stream",
          "name": "stderr",
          "text": [
            "/usr/local/lib/python3.11/dist-packages/huggingface_hub/utils/_auth.py:94: UserWarning: \n",
            "The secret `HF_TOKEN` does not exist in your Colab secrets.\n",
            "To authenticate with the Hugging Face Hub, create a token in your settings tab (https://huggingface.co/settings/tokens), set it as secret in your Google Colab and restart your session.\n",
            "You will be able to reuse this secret in all of your notebooks.\n",
            "Please note that authentication is recommended but still optional to access public models or datasets.\n",
            "  warnings.warn(\n"
          ]
        }
      ],
      "source": [
        "from sentence_transformers import SentenceTransformer\n",
        "sbert_model = SentenceTransformer('all-MiniLM-L6-v2')\n",
        "embedded_sentence1 = sbert_model.encode(df[\"Original_text\"].tolist())\n",
        "embedded_sentence2 = sbert_model.encode(df[\"Plagiarism_text\"].tolist())"
      ]
    },
    {
      "cell_type": "code",
      "source": [
        "X = np.abs(embedded_sentence1 - embedded_sentence2)\n",
        "\n",
        "y = df[\"Label\"].values"
      ],
      "metadata": {
        "id": "cL1W0cbtw8Un"
      },
      "execution_count": 12,
      "outputs": []
    },
    {
      "cell_type": "code",
      "execution_count": 13,
      "metadata": {
        "id": "-c3YfJipjdOZ"
      },
      "outputs": [],
      "source": [
        "from sklearn.decomposition import PCA\n",
        "pca = PCA(n_components=100)\n",
        "X = pca.fit_transform(X)"
      ]
    },
    {
      "cell_type": "code",
      "execution_count": 14,
      "metadata": {
        "id": "Eh2BQnY-jhzd"
      },
      "outputs": [],
      "source": [
        "X_train, X_test, y_train, y_test = train_test_split(X, y, test_size = 0.2, random_state = 42)"
      ]
    },
    {
      "cell_type": "code",
      "execution_count": 15,
      "metadata": {
        "id": "ic4yEb_Yjncf",
        "colab": {
          "base_uri": "https://localhost:8080/"
        },
        "outputId": "5508802e-9f3a-4af5-ef52-dd25e9ced89e"
      },
      "outputs": [
        {
          "output_type": "stream",
          "name": "stdout",
          "text": [
            "Accuracy:  0.7908239649399788\n",
            "              precision    recall  f1-score   support\n",
            "\n",
            "           0       0.79      0.78      0.79     36586\n",
            "           1       0.79      0.80      0.79     36888\n",
            "\n",
            "    accuracy                           0.79     73474\n",
            "   macro avg       0.79      0.79      0.79     73474\n",
            "weighted avg       0.79      0.79      0.79     73474\n",
            "\n"
          ]
        }
      ],
      "source": [
        "LR = LogisticRegression()\n",
        "LR_trained = LR.fit(X_train, y_train)\n",
        "LR_pred = LR.predict(X_test)\n",
        "LR_accuracy = accuracy_score(y_test, LR_pred)\n",
        "print(\"Accuracy: \", LR_accuracy)\n",
        "print(classification_report(y_test, LR_pred))"
      ]
    },
    {
      "cell_type": "code",
      "execution_count": 16,
      "metadata": {
        "id": "kcBGsVlBjtFa",
        "colab": {
          "base_uri": "https://localhost:8080/"
        },
        "outputId": "26a853bb-ea4d-46b2-8182-39e205ffbadf"
      },
      "outputs": [
        {
          "output_type": "stream",
          "name": "stdout",
          "text": [
            "Requirement already satisfied: lightgbm in /usr/local/lib/python3.11/dist-packages (4.5.0)\n",
            "Requirement already satisfied: numpy>=1.17.0 in /usr/local/lib/python3.11/dist-packages (from lightgbm) (1.26.4)\n",
            "Requirement already satisfied: scipy in /usr/local/lib/python3.11/dist-packages (from lightgbm) (1.13.1)\n"
          ]
        }
      ],
      "source": [
        "!pip install lightgbm"
      ]
    },
    {
      "cell_type": "code",
      "execution_count": 17,
      "metadata": {
        "id": "LjOyqMwHjuQN"
      },
      "outputs": [],
      "source": [
        "import lightgbm as lgb\n",
        "train_data = lgb.Dataset(X_train, label=y_train)\n",
        "test_data = lgb.Dataset(X_test, label=y_test, reference=train_data)\n",
        "\n",
        "params = {\n",
        "    'objective': 'binary',\n",
        "    'metric': 'binary_error',\n",
        "    'boosting_type': 'gbdt',\n",
        "    'learning_rate': 0.1,\n",
        "    'num_leaves': 31,\n",
        "    'max_depth': -1,\n",
        "    'verbose': -1\n",
        "}\n",
        "\n",
        "lgbm_model = lgb.train(params, train_data, valid_sets=[test_data], num_boost_round=100)"
      ]
    },
    {
      "cell_type": "code",
      "execution_count": 18,
      "metadata": {
        "id": "JhfoFvgaj1Ej",
        "colab": {
          "base_uri": "https://localhost:8080/"
        },
        "outputId": "0dd5bd2e-d1ce-4603-db6e-1272b19912f0"
      },
      "outputs": [
        {
          "output_type": "stream",
          "name": "stdout",
          "text": [
            "Accuracy: 0.8090\n",
            "\n",
            "Classification Report:\n",
            "               precision    recall  f1-score   support\n",
            "\n",
            "           0       0.84      0.77      0.80     36586\n",
            "           1       0.79      0.85      0.82     36888\n",
            "\n",
            "    accuracy                           0.81     73474\n",
            "   macro avg       0.81      0.81      0.81     73474\n",
            "weighted avg       0.81      0.81      0.81     73474\n",
            "\n"
          ]
        }
      ],
      "source": [
        "y_pred = lgbm_model.predict(X_test)\n",
        "y_pred = np.round(y_pred)\n",
        "accuracy = accuracy_score(y_test, y_pred)\n",
        "print(f\"Accuracy: {accuracy:.4f}\")\n",
        "print(\"\\nClassification Report:\\n\", classification_report(y_test, y_pred))"
      ]
    },
    {
      "cell_type": "code",
      "source": [
        "cm = confusion_matrix(y_test, y_pred)\n",
        "plt.figure(figsize=(6,5))\n",
        "sns.heatmap(cm, annot=True, fmt=\"d\", cmap=\"coolwarm\", cbar=False, linewidths=2, linecolor='black')\n",
        "\n",
        "plt.xlabel(\"Predicted Label\", fontsize=12, color=\"black\")\n",
        "plt.ylabel(\"True Label\", fontsize=12, color=\"black\")\n",
        "plt.title(\"Confusion Matrix\", fontsize=14, fontweight=\"bold\", color=\"black\")\n",
        "\n",
        "plt.show()"
      ],
      "metadata": {
        "id": "wGUadi-RmiLa",
        "colab": {
          "base_uri": "https://localhost:8080/",
          "height": 492
        },
        "outputId": "e4de7f32-8e2a-4553-c2d4-4b2a240bffcd"
      },
      "execution_count": 19,
      "outputs": [
        {
          "output_type": "display_data",
          "data": {
            "text/plain": [
              "<Figure size 600x500 with 1 Axes>"
            ],
            "image/png": "[encoded data removed]"
          },
          "metadata": {}
        }
      ]
    },
    {
      "cell_type": "code",
      "source": [
        "cm_normalized = cm.astype('float') / cm.sum(axis=1)[:, np.newaxis]\n",
        "\n",
        "plt.figure(figsize=(6,5))\n",
        "sns.heatmap(cm_normalized, annot=True, fmt=\".2%\", cmap=\"coolwarm\", cbar=False, linewidths=2, linecolor='black')\n",
        "\n",
        "plt.xlabel(\"Predicted Label\", fontsize=12, color=\"black\")\n",
        "plt.ylabel(\"True Label\", fontsize=12, color=\"black\")\n",
        "plt.title(\"Normalized Confusion Matrix\", fontsize=14, fontweight=\"bold\", color=\"black\")\n",
        "\n",
        "plt.show()"
      ],
      "metadata": {
        "id": "7vmIAb3bnEZq",
        "colab": {
          "base_uri": "https://localhost:8080/",
          "height": 492
        },
        "outputId": "33354edd-7b35-4011-96b7-9a56257eb75c"
      },
      "execution_count": 20,
      "outputs": [
        {
          "output_type": "display_data",
          "data": {
            "text/plain": [
              "<Figure size 600x500 with 1 Axes>"
            ],
            "image/png": "[encoded data removed]"
          },
          "metadata": {}
        }
      ]
    },
    {
      "cell_type": "code",
      "source": [
        "import pandas as pd\n",
        "\n",
        "from sklearn.metrics import classification_report\n",
        "report_dict = classification_report(y_test, y_pred, output_dict=True)\n",
        "\n",
        "df_report = pd.DataFrame(report_dict).transpose()\n",
        "\n",
        "df_report.drop(columns=['support'], inplace=True)\n",
        "\n",
        "df_report[:-1].plot(kind=\"bar\", colormap=\"coolwarm\", figsize=(8,5))\n",
        "plt.title(\"Classification Report Metrics\", fontsize=14, fontweight=\"bold\")\n",
        "plt.xticks(rotation=0)\n",
        "plt.grid(axis=\"y\", linestyle=\"--\", alpha=0.6)\n",
        "plt.show()\n"
      ],
      "metadata": {
        "id": "oiBKnlaRnIac",
        "colab": {
          "base_uri": "https://localhost:8080/",
          "height": 469
        },
        "outputId": "6dc33a85-eb76-4846-8880-9171502cabb9"
      },
      "execution_count": 21,
      "outputs": [
        {
          "output_type": "display_data",
          "data": {
            "text/plain": [
              "<Figure size 800x500 with 1 Axes>"
            ],
            "image/png": "[encoded data removed]"
          },
          "metadata": {}
        }
      ]
    },
    {
      "cell_type": "code",
      "source": [
        "import joblib\n",
        "\n",
        "model_save_path = \"/content/drive/MyDrive/lightgbm_plagiarism_model.pkl\"\n",
        "\n",
        "joblib.dump(lgbm_model, model_save_path)\n",
        "\n",
        "print(f\"Model saved at: {model_save_path}\")"
      ],
      "metadata": {
        "id": "Yrh779zNo4Sf",
        "colab": {
          "base_uri": "https://localhost:8080/"
        },
        "outputId": "b937739c-4a08-4fc4-869b-75c8fb792dcb"
      },
      "execution_count": 27,
      "outputs": [
        {
          "output_type": "stream",
          "name": "stdout",
          "text": [
            "Model saved at: /content/drive/MyDrive/lightgbm_plagiarism_model.pkl\n"
          ]
        }
      ]
    },
    {
      "cell_type": "code",
      "source": [
        "logreg_path = \"/content/drive/MyDrive/logistic_regression_model.pkl\"\n"
      ],
      "metadata": {
        "id": "4c8E5mLtsFv7"
      },
      "execution_count": 28,
      "outputs": []
    },
    {
      "cell_type": "code",
      "source": [
        "joblib.dump(LR_trained, model_save_path)\n",
        "\n",
        "print(f\"Model saved at: {model_save_path}\")"
      ],
      "metadata": {
        "id": "5PiXoSaMsGc0",
        "colab": {
          "base_uri": "https://localhost:8080/"
        },
        "outputId": "fa66a38b-bde5-4802-e19b-ac27baa6d4db"
      },
      "execution_count": 29,
      "outputs": [
        {
          "output_type": "stream",
          "name": "stdout",
          "text": [
            "Model saved at: /content/drive/MyDrive/lightgbm_plagiarism_model.pkl\n"
          ]
        }
      ]
    },
    {
      "cell_type": "code",
      "source": [
        "pca_save_path = \"/content/drive/MyDrive/pca_model.pkl\"\n",
        "joblib.dump(pca, pca_save_path)\n",
        "\n",
        "print(f\"PCA model saved at: {pca_save_path}\")"
      ],
      "metadata": {
        "colab": {
          "base_uri": "https://localhost:8080/"
        },
        "id": "bPNv0F-vuqai",
        "outputId": "f7ec3aed-c902-4a15-e865-7f1229ec2101"
      },
      "execution_count": 31,
      "outputs": [
        {
          "output_type": "stream",
          "name": "stdout",
          "text": [
            "PCA model saved at: /content/drive/MyDrive/pca_model.pkl\n"
          ]
        }
      ]
    }
  ],
  "metadata": {
    "accelerator": "GPU",
    "colab": {
      "gpuType": "T4",
      "provenance": [],
      "authorship_tag": "ABX9TyMmjW5+2TnB09nRldGYcGGR",
      "include_colab_link": true
    },
    "kernelspec": {
      "display_name": "Python 3",
      "name": "python3"
    },
    "language_info": {
      "name": "python"
    }
  },
  "nbformat": 4,
  "nbformat_minor": 0
}